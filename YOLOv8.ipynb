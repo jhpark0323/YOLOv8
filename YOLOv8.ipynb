{
 "cells": [
  {
   "cell_type": "markdown",
   "id": "5d42d233-62d9-4fbe-8d06-553fd86d2728",
   "metadata": {},
   "source": [
    "### 파인 튜닝 전 모델 검증"
   ]
  },
  {
   "cell_type": "code",
   "execution_count": null,
   "id": "3c125c7a-3cd0-4886-8771-568499be2743",
   "metadata": {},
   "outputs": [],
   "source": [
    "from ultralytics import YOLO\n",
    "\n",
    "# YOLOv8 모델 로드 (사전 학습된 모델)\n",
    "model = YOLO(\"yolov8n.pt\")\n",
    "\n",
    "# 검증 데이터셋 경로를 포함한 설정 파일로 평가\n",
    "metrics = model.val(data=\"path/to/data.yaml\")\n",
    "\n",
    "# 평가 결과 출력\n",
    "precision = metrics['metrics/precision']\n",
    "recall = metrics['metrics/recall']\n",
    "f1_score = metrics['metrics/f1']\n",
    "\n",
    "print(f\"Precision: {precision:.2f}\")\n",
    "print(f\"Recall: {recall:.2f}\")\n",
    "print(f\"F1 Score: {f1_score:.2f}\")\n"
   ]
  },
  {
   "cell_type": "code",
   "execution_count": null,
   "id": "8edc3827-d3cd-4c1c-9c1d-64e333db9c3a",
   "metadata": {},
   "outputs": [],
   "source": []
  },
  {
   "cell_type": "markdown",
   "id": "ac6a6b23-0eaf-42b3-b1f3-1dd527d72dfa",
   "metadata": {},
   "source": [
    "### 파인 튜닝 모델 학습"
   ]
  },
  {
   "cell_type": "code",
   "execution_count": null,
   "id": "c193e1db-ec7e-4885-a9a7-a11cdbdd5bb7",
   "metadata": {},
   "outputs": [],
   "source": [
    "from ultralytics import YOLO\n",
    "\n",
    "# YOLOv8 모델 로드 (사전 학습된 모델)\n",
    "fine_tuned_model = YOLO(\"yolov8n.pt\")\n",
    "\n",
    "# 파인튜닝을 위해 커스텀 데이터셋으로 학습 실행\n",
    "# data.yaml 파일에는 학습/검증 데이터 경로와 클래스 이름이 정의되어 있어야 합니다\n",
    "fine_tuned_model.train(data=\"path/to/data.yaml\", epochs=50, imgsz=640)"
   ]
  },
  {
   "cell_type": "code",
   "execution_count": null,
   "id": "6473916a-fac1-426e-9d21-f21305effc24",
   "metadata": {},
   "outputs": [],
   "source": [
    "# 검증 데이터셋으로 모델 평가\n",
    "metrics = fine_tuned_model.val(data=\"path/to/data.yaml\")\n",
    "\n",
    "# 성능 지표 확인\n",
    "precision = metrics['metrics/precision']  # 정밀도\n",
    "recall = metrics['metrics/recall']        # 재현율\n",
    "f1_score = metrics['metrics/f1']          # F1 Score\n",
    "\n",
    "print(f\"Precision: {precision:.2f}\")\n",
    "print(f\"Recall: {recall:.2f}\")\n",
    "print(f\"F1 Score: {f1_score:.2f}\")"
   ]
  }
 ],
 "metadata": {
  "kernelspec": {
   "display_name": "Python 3 (ipykernel)",
   "language": "python",
   "name": "python3"
  },
  "language_info": {
   "codemirror_mode": {
    "name": "ipython",
    "version": 3
   },
   "file_extension": ".py",
   "mimetype": "text/x-python",
   "name": "python",
   "nbconvert_exporter": "python",
   "pygments_lexer": "ipython3",
   "version": "3.12.4"
  }
 },
 "nbformat": 4,
 "nbformat_minor": 5
}
